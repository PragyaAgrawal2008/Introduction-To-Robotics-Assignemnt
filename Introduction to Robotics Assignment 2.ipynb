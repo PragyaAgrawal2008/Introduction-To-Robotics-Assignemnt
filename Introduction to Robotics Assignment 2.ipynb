{
 "cells": [
  {
   "cell_type": "code",
   "execution_count": 10,
   "metadata": {},
   "outputs": [
    {
     "name": "stdout",
     "output_type": "stream",
     "text": [
      "Enter the element ::>\n",
      "2\n",
      "1\n",
      "0\n",
      "[[2], [1], [0]]\n",
      "\n",
      "Display Array In Matrix Form\n",
      "1 0 0 0 0.4999978792725457 -0.8660266281835431 0 0.8660266281835431 0.4999978792725457 \n",
      "\n",
      "Display Array In Matrix Form\n",
      "0.8660252915835662 0 -0.5000001943375613 \n",
      "0 1 0 \n",
      "-0.5000001943375613 0 0.8660252915835662 \n",
      "\n",
      "The Resultant Matrix Is ::>\n",
      "[1.299037100773858]\n",
      "[0.4999978792725457]\n",
      "[-0.24999942548333687]\n"
     ]
    }
   ],
   "source": [
    "import math\n",
    "B=[]        \n",
    "print(\"Enter the element ::>\")\n",
    "for i in range(3): \n",
    "   row=[]                                      #temporary list to store the row\n",
    "   for j in range(1): \n",
    "      row.append(int(input()))           #add the input to row list\n",
    "      B.append(row)                      #add the row to the list\n",
    "print(B)                                \n",
    "A=[[1,0,0],\n",
    "   [0,math.cos(1.0472),math.sin(-1.0472)],\n",
    "   [0,math.sin(1.0472),math.cos(1.0472)]]  #rotation matrix around x-axis\n",
    "print(\"\\nDisplay Array In Matrix Form\")\n",
    "for i in range(3):\n",
    "   for j in range(3):\n",
    "      print(A[i][j], end=\" \")\n",
    "result1 = [[0],[0],[0]]\n",
    "# iterate through rows of A\n",
    "for i in range(len(A)):\n",
    "   # iterate through columns of B\n",
    "   for j in range(len(B[0])):\n",
    "       # iterate through rows of B\n",
    "       for k in range(len(B)):\n",
    "           result1[i][j] += A[i][k] * B[k][j]\n",
    "C=[[math.cos(0.523599),0,math.sin(-0.523599)],\n",
    "    [0,1,0],\n",
    "   [math.sin(-0.523599),0,math.cos(0.523599)]]  #rotation matrix around y-axis\n",
    "print(\"\\n\\nDisplay Array In Matrix Form\")\n",
    "for i in range(3):\n",
    "   for j in range(3):\n",
    "      print(C[i][j], end=\" \")\n",
    "   print()   \n",
    "result2 = [[0],[0],[0]]\n",
    "# iterate through rows of C\n",
    "for i in range(len(C)):\n",
    "   # iterate through columns of result1\n",
    "   for j in range(len(result1[0])):\n",
    "       # iterate through rows of result1\n",
    "       for k in range(len(result1)):\n",
    "           result2[i][j] += C[i][k] * result1[k][j]\n",
    "print(\"\\nThe Resultant Matrix Is ::>\")\n",
    "for r in result2: \n",
    "   print(r)"
   ]
  },
  {
   "cell_type": "code",
   "execution_count": null,
   "metadata": {},
   "outputs": [],
   "source": []
  }
 ],
 "metadata": {
  "kernelspec": {
   "display_name": "Python 3",
   "language": "python",
   "name": "python3"
  },
  "language_info": {
   "codemirror_mode": {
    "name": "ipython",
    "version": 3
   },
   "file_extension": ".py",
   "mimetype": "text/x-python",
   "name": "python",
   "nbconvert_exporter": "python",
   "pygments_lexer": "ipython3",
   "version": "3.8.5"
  }
 },
 "nbformat": 4,
 "nbformat_minor": 4
}
