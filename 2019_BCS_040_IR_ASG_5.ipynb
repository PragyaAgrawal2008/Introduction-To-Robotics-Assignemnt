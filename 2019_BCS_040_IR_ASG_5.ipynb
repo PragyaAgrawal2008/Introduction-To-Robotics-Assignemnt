{
  "nbformat": 4,
  "nbformat_minor": 0,
  "metadata": {
    "colab": {
      "name": "2019 BCS-040 IR ASG 5.ipynb",
      "provenance": [],
      "authorship_tag": "ABX9TyO/6xe4/+Oi2LKLnihLGVIt",
      "include_colab_link": true
    },
    "kernelspec": {
      "name": "python3",
      "display_name": "Python 3"
    },
    "language_info": {
      "name": "python"
    }
  },
  "cells": [
    {
      "cell_type": "markdown",
      "metadata": {
        "id": "view-in-github",
        "colab_type": "text"
      },
      "source": [
        "<a href=\"https://colab.research.google.com/github/PragyaAgrawal2008/Introduction-To-Robotics-Assignemnt/blob/main/2019_BCS_040_IR_ASG_5.ipynb\" target=\"_parent\"><img src=\"https://colab.research.google.com/assets/colab-badge.svg\" alt=\"Open In Colab\"/></a>"
      ]
    },
    {
      "cell_type": "code",
      "metadata": {
        "id": "WYbff1k1KW5I"
      },
      "source": [
        "# importing all modules\n",
        "import pandas as pd\n",
        "import math\n",
        "import random\n",
        "import matplotlib.pyplot as plt\n",
        "from sklearn.model_selection import train_test_split\n",
        "from keras import models\n",
        "from keras import layers\n",
        "from keras import regularizers\n",
        "import numpy as np\n"
      ],
      "execution_count": 4,
      "outputs": []
    },
    {
      "cell_type": "code",
      "metadata": {
        "id": "1nbMQP83KgmP"
      },
      "source": [
        "l1 = l2 = l3 = 7 # length"
      ],
      "execution_count": 5,
      "outputs": []
    },
    {
      "cell_type": "code",
      "metadata": {
        "id": "hxaw2BxEKkZa"
      },
      "source": [
        "def three_link_manipulator_dataset():\n",
        "    rows = []\n",
        "    for i in range(1, 100000):\n",
        "        theta1 = round(random.uniform(0, math.pi), 2)\n",
        "        theta2 = round(random.uniform(-math.pi, 0), 2)\n",
        "        theta3 = round(random.uniform(-math.pi/2, math.pi/2), 2)\n",
        "        \n",
        "        x = round(l1*math.cos(theta1)+l2*math.cos(theta1+theta2)+l3*math.cos(theta1+theta2+theta3), 2)\n",
        "        y = round(l1*math.sin(theta1)+l2*math.sin(theta1+theta2)+l3*math.sin(theta1+theta2+theta3), 2)\n",
        "        phi = round(math.degrees(theta1)+math.degrees(theta2)+math.degrees(theta3), 2)\n",
        "        \n",
        "        rows.append([theta1, theta2, theta3, x, y, phi])\n",
        "\n",
        "    df = pd.DataFrame(rows, columns=['theta1', 'theta2', 'theta3', 'x', 'y', 'phi'])\n",
        "    df.to_csv('three_link.csv', index=False)\n",
        "    \n",
        "three_link_manipulator_dataset()"
      ],
      "execution_count": 6,
      "outputs": []
    },
    {
      "cell_type": "code",
      "metadata": {
        "colab": {
          "base_uri": "https://localhost:8080/",
          "height": 202
        },
        "id": "YrC7vHXYKnWB",
        "outputId": "0bd6aae0-d69d-42ef-80a6-2991489f4b2a"
      },
      "source": [
        "three_link_data = pd.read_csv('three_link.csv')\n",
        "three_link_data.head()\n"
      ],
      "execution_count": 7,
      "outputs": [
        {
          "output_type": "execute_result",
          "data": {
            "text/html": [
              "<div>\n",
              "<style scoped>\n",
              "    .dataframe tbody tr th:only-of-type {\n",
              "        vertical-align: middle;\n",
              "    }\n",
              "\n",
              "    .dataframe tbody tr th {\n",
              "        vertical-align: top;\n",
              "    }\n",
              "\n",
              "    .dataframe thead th {\n",
              "        text-align: right;\n",
              "    }\n",
              "</style>\n",
              "<table border=\"1\" class=\"dataframe\">\n",
              "  <thead>\n",
              "    <tr style=\"text-align: right;\">\n",
              "      <th></th>\n",
              "      <th>theta1</th>\n",
              "      <th>theta2</th>\n",
              "      <th>theta3</th>\n",
              "      <th>x</th>\n",
              "      <th>y</th>\n",
              "      <th>phi</th>\n",
              "    </tr>\n",
              "  </thead>\n",
              "  <tbody>\n",
              "    <tr>\n",
              "      <th>0</th>\n",
              "      <td>2.69</td>\n",
              "      <td>-0.31</td>\n",
              "      <td>-0.24</td>\n",
              "      <td>-15.14</td>\n",
              "      <td>13.78</td>\n",
              "      <td>122.61</td>\n",
              "    </tr>\n",
              "    <tr>\n",
              "      <th>1</th>\n",
              "      <td>2.89</td>\n",
              "      <td>-0.34</td>\n",
              "      <td>-0.65</td>\n",
              "      <td>-14.85</td>\n",
              "      <td>12.27</td>\n",
              "      <td>108.86</td>\n",
              "    </tr>\n",
              "    <tr>\n",
              "      <th>2</th>\n",
              "      <td>1.04</td>\n",
              "      <td>-1.42</td>\n",
              "      <td>-0.56</td>\n",
              "      <td>14.17</td>\n",
              "      <td>-2.21</td>\n",
              "      <td>-53.86</td>\n",
              "    </tr>\n",
              "    <tr>\n",
              "      <th>3</th>\n",
              "      <td>1.06</td>\n",
              "      <td>-2.94</td>\n",
              "      <td>0.59</td>\n",
              "      <td>3.23</td>\n",
              "      <td>-7.29</td>\n",
              "      <td>-73.91</td>\n",
              "    </tr>\n",
              "    <tr>\n",
              "      <th>4</th>\n",
              "      <td>0.63</td>\n",
              "      <td>-0.62</td>\n",
              "      <td>0.21</td>\n",
              "      <td>19.49</td>\n",
              "      <td>5.72</td>\n",
              "      <td>12.61</td>\n",
              "    </tr>\n",
              "  </tbody>\n",
              "</table>\n",
              "</div>"
            ],
            "text/plain": [
              "   theta1  theta2  theta3      x      y     phi\n",
              "0    2.69   -0.31   -0.24 -15.14  13.78  122.61\n",
              "1    2.89   -0.34   -0.65 -14.85  12.27  108.86\n",
              "2    1.04   -1.42   -0.56  14.17  -2.21  -53.86\n",
              "3    1.06   -2.94    0.59   3.23  -7.29  -73.91\n",
              "4    0.63   -0.62    0.21  19.49   5.72   12.61"
            ]
          },
          "metadata": {
            "tags": []
          },
          "execution_count": 7
        }
      ]
    },
    {
      "cell_type": "code",
      "metadata": {
        "id": "TlL8QezcKqt3"
      },
      "source": [
        "# Splitting training and testing dataset\n",
        "X = three_link_data[['x', 'y', 'phi']]\n",
        "y = three_link_data[['theta1', 'theta2', 'theta3']]\n",
        "train_X, test_X, train_y, test_y = train_test_split(X, y, test_size=0.1)"
      ],
      "execution_count": 8,
      "outputs": []
    },
    {
      "cell_type": "code",
      "metadata": {
        "colab": {
          "base_uri": "https://localhost:8080/"
        },
        "id": "J3Zw4rE6KtRQ",
        "outputId": "41796db7-9498-4dc9-8a91-fcb12060d7aa"
      },
      "source": [
        "# Defining model\n",
        "\n",
        "model = models.Sequential()\n",
        "model.add(layers.Dense(units=3, input_dim=3, kernel_initializer='uniform'))\n",
        "model.add(layers.Dense(units=100, kernel_initializer='uniform', activation='relu'))\n",
        "model.add(layers.Dense(units=100, kernel_initializer='uniform', activation='relu'))\n",
        "model.add(layers.Dense(units=3, kernel_initializer = 'uniform', activation='linear'))\n",
        "\n",
        "model.summary()"
      ],
      "execution_count": 9,
      "outputs": [
        {
          "output_type": "stream",
          "text": [
            "Model: \"sequential\"\n",
            "_________________________________________________________________\n",
            "Layer (type)                 Output Shape              Param #   \n",
            "=================================================================\n",
            "dense (Dense)                (None, 3)                 12        \n",
            "_________________________________________________________________\n",
            "dense_1 (Dense)              (None, 100)               400       \n",
            "_________________________________________________________________\n",
            "dense_2 (Dense)              (None, 100)               10100     \n",
            "_________________________________________________________________\n",
            "dense_3 (Dense)              (None, 3)                 303       \n",
            "=================================================================\n",
            "Total params: 10,815\n",
            "Trainable params: 10,815\n",
            "Non-trainable params: 0\n",
            "_________________________________________________________________\n"
          ],
          "name": "stdout"
        }
      ]
    },
    {
      "cell_type": "code",
      "metadata": {
        "id": "-SlQ4b_fKwme"
      },
      "source": [
        "model.compile(optimizer='adam', loss='mean_squared_error', metrics=['accuracy'])"
      ],
      "execution_count": 10,
      "outputs": []
    },
    {
      "cell_type": "code",
      "metadata": {
        "colab": {
          "base_uri": "https://localhost:8080/"
        },
        "id": "9K-ESbHQKzBH",
        "outputId": "47c293a0-c6c9-4600-f805-a08c9756304f"
      },
      "source": [
        "# training model\n",
        "history = model.fit(train_X, train_y, epochs=30, validation_split=0.1, shuffle=True)"
      ],
      "execution_count": 11,
      "outputs": [
        {
          "output_type": "stream",
          "text": [
            "Epoch 1/30\n",
            "2532/2532 [==============================] - 5s 2ms/step - loss: 0.4576 - accuracy: 0.9041 - val_loss: 0.0519 - val_accuracy: 0.9662\n",
            "Epoch 2/30\n",
            "2532/2532 [==============================] - 4s 1ms/step - loss: 0.0393 - accuracy: 0.9672 - val_loss: 0.0303 - val_accuracy: 0.9674\n",
            "Epoch 3/30\n",
            "2532/2532 [==============================] - 4s 1ms/step - loss: 0.0288 - accuracy: 0.9720 - val_loss: 0.0215 - val_accuracy: 0.9742\n",
            "Epoch 4/30\n",
            "2532/2532 [==============================] - 4s 1ms/step - loss: 0.0228 - accuracy: 0.9748 - val_loss: 0.0221 - val_accuracy: 0.9718\n",
            "Epoch 5/30\n",
            "2532/2532 [==============================] - 4s 1ms/step - loss: 0.0206 - accuracy: 0.9764 - val_loss: 0.0208 - val_accuracy: 0.9790\n",
            "Epoch 6/30\n",
            "2532/2532 [==============================] - 3s 1ms/step - loss: 0.0195 - accuracy: 0.9763 - val_loss: 0.0156 - val_accuracy: 0.9810\n",
            "Epoch 7/30\n",
            "2532/2532 [==============================] - 4s 1ms/step - loss: 0.0186 - accuracy: 0.9774 - val_loss: 0.0151 - val_accuracy: 0.9779\n",
            "Epoch 8/30\n",
            "2532/2532 [==============================] - 4s 1ms/step - loss: 0.0169 - accuracy: 0.9773 - val_loss: 0.0217 - val_accuracy: 0.9777\n",
            "Epoch 9/30\n",
            "2532/2532 [==============================] - 4s 1ms/step - loss: 0.0168 - accuracy: 0.9778 - val_loss: 0.0133 - val_accuracy: 0.9774\n",
            "Epoch 10/30\n",
            "2532/2532 [==============================] - 4s 1ms/step - loss: 0.0163 - accuracy: 0.9804 - val_loss: 0.0149 - val_accuracy: 0.9770\n",
            "Epoch 11/30\n",
            "2532/2532 [==============================] - 4s 1ms/step - loss: 0.0161 - accuracy: 0.9800 - val_loss: 0.0212 - val_accuracy: 0.9752\n",
            "Epoch 12/30\n",
            "2532/2532 [==============================] - 4s 1ms/step - loss: 0.0153 - accuracy: 0.9812 - val_loss: 0.0123 - val_accuracy: 0.9802\n",
            "Epoch 13/30\n",
            "2532/2532 [==============================] - 4s 1ms/step - loss: 0.0153 - accuracy: 0.9808 - val_loss: 0.0163 - val_accuracy: 0.9819\n",
            "Epoch 14/30\n",
            "2532/2532 [==============================] - 4s 1ms/step - loss: 0.0144 - accuracy: 0.9825 - val_loss: 0.0116 - val_accuracy: 0.9843\n",
            "Epoch 15/30\n",
            "2532/2532 [==============================] - 3s 1ms/step - loss: 0.0151 - accuracy: 0.9819 - val_loss: 0.0121 - val_accuracy: 0.9812\n",
            "Epoch 16/30\n",
            "2532/2532 [==============================] - 4s 1ms/step - loss: 0.0136 - accuracy: 0.9821 - val_loss: 0.0132 - val_accuracy: 0.9826\n",
            "Epoch 17/30\n",
            "2532/2532 [==============================] - 4s 1ms/step - loss: 0.0136 - accuracy: 0.9832 - val_loss: 0.0138 - val_accuracy: 0.9834\n",
            "Epoch 18/30\n",
            "2532/2532 [==============================] - 4s 1ms/step - loss: 0.0135 - accuracy: 0.9824 - val_loss: 0.0134 - val_accuracy: 0.9734\n",
            "Epoch 19/30\n",
            "2532/2532 [==============================] - 4s 1ms/step - loss: 0.0130 - accuracy: 0.9836 - val_loss: 0.0161 - val_accuracy: 0.9824\n",
            "Epoch 20/30\n",
            "2532/2532 [==============================] - 4s 1ms/step - loss: 0.0130 - accuracy: 0.9832 - val_loss: 0.0129 - val_accuracy: 0.9873\n",
            "Epoch 21/30\n",
            "2532/2532 [==============================] - 4s 1ms/step - loss: 0.0126 - accuracy: 0.9840 - val_loss: 0.0145 - val_accuracy: 0.9851\n",
            "Epoch 22/30\n",
            "2532/2532 [==============================] - 4s 1ms/step - loss: 0.0119 - accuracy: 0.9838 - val_loss: 0.0115 - val_accuracy: 0.9832\n",
            "Epoch 23/30\n",
            "2532/2532 [==============================] - 4s 1ms/step - loss: 0.0123 - accuracy: 0.9846 - val_loss: 0.0137 - val_accuracy: 0.9802\n",
            "Epoch 24/30\n",
            "2532/2532 [==============================] - 4s 1ms/step - loss: 0.0120 - accuracy: 0.9844 - val_loss: 0.0118 - val_accuracy: 0.9867\n",
            "Epoch 25/30\n",
            "2532/2532 [==============================] - 4s 1ms/step - loss: 0.0123 - accuracy: 0.9832 - val_loss: 0.0142 - val_accuracy: 0.9857\n",
            "Epoch 26/30\n",
            "2532/2532 [==============================] - 4s 1ms/step - loss: 0.0121 - accuracy: 0.9848 - val_loss: 0.0116 - val_accuracy: 0.9863\n",
            "Epoch 27/30\n",
            "2532/2532 [==============================] - 4s 1ms/step - loss: 0.0111 - accuracy: 0.9854 - val_loss: 0.0117 - val_accuracy: 0.9752\n",
            "Epoch 28/30\n",
            "2532/2532 [==============================] - 4s 1ms/step - loss: 0.0110 - accuracy: 0.9856 - val_loss: 0.0123 - val_accuracy: 0.9862\n",
            "Epoch 29/30\n",
            "2532/2532 [==============================] - 4s 1ms/step - loss: 0.0115 - accuracy: 0.9843 - val_loss: 0.0151 - val_accuracy: 0.9853\n",
            "Epoch 30/30\n",
            "2532/2532 [==============================] - 4s 1ms/step - loss: 0.0115 - accuracy: 0.9853 - val_loss: 0.0099 - val_accuracy: 0.9842\n"
          ],
          "name": "stdout"
        }
      ]
    },
    {
      "cell_type": "code",
      "metadata": {
        "colab": {
          "base_uri": "https://localhost:8080/",
          "height": 573
        },
        "id": "hqApXZlfK3P-",
        "outputId": "10e0900e-c3c6-4d89-d37e-0fd48064db60"
      },
      "source": [
        "# Plotting model accuracy\n",
        "plt.plot(history.history['accuracy'])\n",
        "plt.plot(history.history['val_accuracy'])\n",
        "plt.title('Model Accuracy')\n",
        "plt.ylabel('Accuracy')\n",
        "plt.xlabel('epoch')\n",
        "plt.legend(['train', 'val'], loc='upper left')\n",
        "plt.show()\n",
        "\n",
        "# Plotting model loss\n",
        "plt.plot(history.history['loss'])\n",
        "plt.plot(history.history['val_loss'])\n",
        "plt.title('model loss')\n",
        "plt.ylabel('loss')\n",
        "plt.xlabel('epoch')\n",
        "plt.legend(['train', 'val'], loc='upper left')\n",
        "plt.show()"
      ],
      "execution_count": 12,
      "outputs": [
        {
          "output_type": "display_data",
          "data": {
            "image/png": "[encoded data removed]",
            "text/plain": [
              "<Figure size 432x288 with 1 Axes>"
            ]
          },
          "metadata": {
            "tags": [],
            "needs_background": "light"
          }
        },
        {
          "output_type": "display_data",
          "data": {
            "image/png": "[encoded data removed]",
            "text/plain": [
              "<Figure size 432x288 with 1 Axes>"
            ]
          },
          "metadata": {
            "tags": [],
            "needs_background": "light"
          }
        }
      ]
    },
    {
      "cell_type": "code",
      "metadata": {
        "colab": {
          "base_uri": "https://localhost:8080/"
        },
        "id": "PH2cjXvUK53a",
        "outputId": "88c06567-fe70-4408-a311-bcdb8908b0f8"
      },
      "source": [
        "# Evaluating the model on test set\n",
        "\n",
        "test_loss, test_acc = model.evaluate(test_X, test_y)\n",
        "\n",
        "print('\\nTesting Loss = ', test_loss) \n",
        "print('Testing Accuracy = ', test_acc)"
      ],
      "execution_count": 13,
      "outputs": [
        {
          "output_type": "stream",
          "text": [
            "313/313 [==============================] - 0s 814us/step - loss: 0.0084 - accuracy: 0.9853\n",
            "\n",
            "Testing Loss =  0.008350931107997894\n",
            "Testing Accuracy =  0.9853000044822693\n"
          ],
          "name": "stdout"
        }
      ]
    },
    {
      "cell_type": "code",
      "metadata": {
        "id": "hkoHm1LjLByA"
      },
      "source": [
        "def iiitm_dataset():\n",
        "    rows = []\n",
        "    # for I\n",
        "    arr = np.linspace(5, 7, 100)\n",
        "    for y in arr:\n",
        "        x = 6\n",
        "        theta = math.degrees(math.atan(y/x))\n",
        "        rows.append([x, y, theta])\n",
        "\n",
        "    # for I\n",
        "    arr = np.linspace(5, 7, 100)\n",
        "    for y in arr:\n",
        "        x = 7\n",
        "        theta = math.degrees(math.atan(y/x))\n",
        "        rows.append([x, y, theta])\n",
        "\n",
        "    # for I\n",
        "    arr = np.linspace(5, 7, 100)\n",
        "    for y in arr:\n",
        "        x = 8\n",
        "        theta = math.degrees(math.atan(y/x))\n",
        "        rows.append([x, y, theta])\n",
        "\n",
        "    # for T\n",
        "    arr = np.linspace(9, 10, 100)\n",
        "    for x in arr:\n",
        "        y = 7\n",
        "        theta = math.degrees(math.atan(y/x))\n",
        "        rows.append([x, y, theta])\n",
        "\n",
        "    arr = np.linspace(5, 7, 100)\n",
        "    for y in arr:\n",
        "        x = 9.5\n",
        "        theta = math.degrees(math.atan(y/x))\n",
        "        rows.append([x, y, theta])\n",
        "\n",
        "    # for M\n",
        "    arr = np.linspace(5, 7, 100)\n",
        "    for y in arr:\n",
        "        x = 11\n",
        "        theta = math.degrees(math.atan(y/x))\n",
        "        rows.append([x, y, theta])\n",
        "\n",
        "    arr = np.linspace(5, 7, 100)\n",
        "    for y in arr:\n",
        "        x = ((-y)+29)/2\n",
        "        theta = math.degrees(math.atan(y/x))\n",
        "        rows.append([x, y, theta])\n",
        "\n",
        "    arr = np.linspace(5, 7, 100)\n",
        "    for y in arr:\n",
        "        x = ((y)+19)/2\n",
        "        theta = math.degrees(math.atan(y/x))\n",
        "        rows.append([x, y, theta])\n",
        "\n",
        "    arr = np.linspace(5, 7, 100)\n",
        "    for y in arr:\n",
        "        x = 13\n",
        "        theta = math.degrees(math.atan(y/x))\n",
        "        rows.append([x, y, theta])\n",
        "\n",
        "    df = pd.DataFrame(rows, columns=['x', 'y', 'theta'])\n",
        "    df.to_csv('iiitm.csv', index=False)\n",
        "    \n",
        "iiitm_dataset()"
      ],
      "execution_count": 15,
      "outputs": []
    },
    {
      "cell_type": "code",
      "metadata": {
        "id": "vU4Z04ItLyRY"
      },
      "source": [
        "def three_link_forward_kinematics(theta1, theta2, theta3):\n",
        "    x = (np.cos(theta1)*l1)+(np.cos(theta1+theta2)*l2)+(np.cos(theta1+theta2+theta3)*l3)\n",
        "    y = (np.sin(theta1)*l1)+(np.sin(theta1+theta2)*l2)+(np.sin(theta1+theta2+theta3)*l3)\n",
        "\n",
        "    return x, y"
      ],
      "execution_count": 16,
      "outputs": []
    },
    {
      "cell_type": "code",
      "metadata": {
        "id": "Zb66qOAuL1pz"
      },
      "source": [
        "iiitm_data = pd.read_csv('iiitm.csv')\n",
        "iiitm_predictions = model.predict(iiitm_data.values)\n",
        "x_predictions, y_predictions = three_link_forward_kinematics(iiitm_predictions[:,0], iiitm_predictions[:,1], iiitm_predictions[:,2])"
      ],
      "execution_count": 17,
      "outputs": []
    },
    {
      "cell_type": "code",
      "metadata": {
        "colab": {
          "base_uri": "https://localhost:8080/",
          "height": 761
        },
        "id": "Rd7oKG8rL3z2",
        "outputId": "4a226d58-cfe7-44d8-a4bf-09420b68a699"
      },
      "source": [
        "# Original\n",
        "plt.plot(iiitm_data['x'], iiitm_data['y'], 'go')\n",
        "plt.show()\n",
        "\n",
        "# Predicted\n",
        "plt.plot(x_predictions, y_predictions, 'bo')\n",
        "plt.show()\n",
        "\n",
        "# Original and Predicted\n",
        "plt.plot(iiitm_data['x'], iiitm_data['y'], 'go')\n",
        "plt.plot(x_predictions, y_predictions, 'bo')\n",
        "plt.show()"
      ],
      "execution_count": 18,
      "outputs": [
        {
          "output_type": "display_data",
          "data": {
            "image/png": "[encoded data removed]",
            "text/plain": [
              "<Figure size 432x288 with 1 Axes>"
            ]
          },
          "metadata": {
            "tags": [],
            "needs_background": "light"
          }
        },
        {
          "output_type": "display_data",
          "data": {
            "image/png": "[encoded data removed]",
            "text/plain": [
              "<Figure size 432x288 with 1 Axes>"
            ]
          },
          "metadata": {
            "tags": [],
            "needs_background": "light"
          }
        },
        {
          "output_type": "display_data",
          "data": {
            "image/png": "[encoded data removed]",
            "text/plain": [
              "<Figure size 432x288 with 1 Axes>"
            ]
          },
          "metadata": {
            "tags": [],
            "needs_background": "light"
          }
        }
      ]
    },
    {
      "cell_type": "code",
      "metadata": {
        "id": "FgvBG6FhMdro"
      },
      "source": [
        "def iiitm_dataset():\n",
        "    rows = []\n",
        "    # for I\n",
        "    arr = np.linspace(5, 7, 100)\n",
        "    for y in arr:\n",
        "        x = 6\n",
        "        theta = math.degrees(math.atan(y/x))\n",
        "        rows.append([x, y, theta])\n",
        "\n",
        "    # for I\n",
        "    arr = np.linspace(5, 7, 100)\n",
        "    for y in arr:\n",
        "        x = 7\n",
        "        theta = math.degrees(math.atan(y/x))\n",
        "        rows.append([x, y, theta])\n",
        "\n",
        "    # for I\n",
        "    arr = np.linspace(5, 7, 100)\n",
        "    for y in arr:\n",
        "        x = 8\n",
        "        theta = math.degrees(math.atan(y/x))\n",
        "        rows.append([x, y, theta])\n",
        "\n",
        "    # for T\n",
        "    arr = np.linspace(9, 10, 100)\n",
        "    for x in arr:\n",
        "        y = 7\n",
        "        theta = math.degrees(math.atan(y/x))\n",
        "        rows.append([x, y, theta])\n",
        "\n",
        "    arr = np.linspace(5, 7, 100)\n",
        "    for y in arr:\n",
        "        x = 9.5\n",
        "        theta = math.degrees(math.atan(y/x))\n",
        "        rows.append([x, y, theta])\n",
        "\n",
        "    # for M\n",
        "    arr = np.linspace(5, 7, 100)\n",
        "    for y in arr:\n",
        "        x = 11\n",
        "        theta = math.degrees(math.atan(y/x))\n",
        "        rows.append([x, y, theta])\n",
        "\n",
        "    arr = np.linspace(5, 7, 100)\n",
        "    for y in arr:\n",
        "        x = ((-y)+29)/2\n",
        "        theta = math.degrees(math.atan(y/x))\n",
        "        rows.append([x, y, theta])\n",
        "\n",
        "    arr = np.linspace(5, 7, 100)\n",
        "    for y in arr:\n",
        "        x = ((y)+19)/2\n",
        "        theta = math.degrees(math.atan(y/x))\n",
        "        rows.append([x, y, theta])\n",
        "\n",
        "    arr = np.linspace(5, 7, 100)\n",
        "    for y in arr:\n",
        "        x = 13\n",
        "        theta = math.degrees(math.atan(y/x))\n",
        "        rows.append([x, y, theta])\n",
        "\n",
        "    df = pd.DataFrame(rows, columns=['x', 'y', 'theta'])\n",
        "    df.to_csv('iiitm.csv', index=False)\n",
        "    \n",
        "iiitm_dataset()"
      ],
      "execution_count": null,
      "outputs": []
    }
  ]
}